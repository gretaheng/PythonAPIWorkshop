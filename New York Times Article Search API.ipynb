{
 "cells": [
  {
   "cell_type": "markdown",
   "metadata": {},
   "source": [
    "# Using APIs to Collect Data from Media or Social Media Sources "
   ]
  },
  {
   "cell_type": "markdown",
   "metadata": {},
   "source": [
    "In this notebook we will be working with New York Times Article Search API."
   ]
  },
  {
   "cell_type": "markdown",
   "metadata": {},
   "source": [
    "The NYT Article Search API allows you to search more than 2.8 million New York Times articles from 1981 to today, retrieving headlines, abstracts, lead paragraphs and links to associated multimedia.\n",
    "\n",
    "The API supports the following type of searching: \n",
    "\n",
    "    - Standard keyword searching\n",
    "    - Date range: all articles from X date to Y date\n",
    "    - Field search: search within any number of given fields, e.g., title:obama \n",
    "    - Ordering by relevance, newest and oldest\n",
    "\n",
    "The API will not return full text of articles. But it will return a number of helpful metadata such as subject terms, abstract, and date, as well as URLs, which one could conceivably use to scrape the full text of articles.\n",
    "\n",
    "For more details about this API, please go to https://developer.nytimes.com/docs/articlesearch-product/1/overview."
   ]
  },
  {
   "cell_type": "markdown",
   "metadata": {},
   "source": [
    "### HTTP Request"
   ]
  },
  {
   "cell_type": "markdown",
   "metadata": {},
   "source": [
    "The base HTTP request for NYT Article search API looks like this. We need to add a question mark, parameters and api keys after it to call for API and collect data."
   ]
  },
  {
   "cell_type": "markdown",
   "metadata": {},
   "source": [
    "https://api.nytimes.com/svc/search/v2/articlesearch.json"
   ]
  },
  {
   "cell_type": "markdown",
   "metadata": {},
   "source": [
    "### Get API key"
   ]
  },
  {
   "cell_type": "code",
   "execution_count": null,
   "metadata": {},
   "outputs": [],
   "source": [
    "# Note: this is my API key and is only being used for example purposes. Please don't spam NYT using my API key.\n",
    "# You could sign up for your own API key following the instruction bellow\n",
    "nyt_api ='tcrAZ92puwt0ApwLWpHkLjS9JIYb35SZ'"
   ]
  },
  {
   "cell_type": "markdown",
   "metadata": {},
   "source": [
    "- Go to the New York Times (NYT) Developer website and create your account (https://developer.nytimes.com/accounts/create)\n",
    "- Look for the verification email in your inbox (spam folder) and click the link in that email\n",
    "- Sign into your NYT Developer account\n",
    "- Select Apps from the user drop-down\n",
    "- Click + New App to create a new app\n",
    "- Enter a name and description for the app in the New App dialog, enable Article Search API\n",
    "- Click Create\n",
    "- Select Apps from th user drop-down.\n",
    "- Click the app in the list.\n",
    "- View the API key on the App Details tab.\n",
    "- Confirm that the status of the API key is active and copy the API key to a .txt file.\n"
   ]
  },
  {
   "cell_type": "markdown",
   "metadata": {},
   "source": [
    "### Install and import necessary libraries"
   ]
  },
  {
   "cell_type": "markdown",
   "metadata": {},
   "source": [
    "The first thing we need to do is install the 'requests' library. Requests is a Python module that you can use to send all kinds of HTTP request, including the GET method. "
   ]
  },
  {
   "cell_type": "code",
   "execution_count": null,
   "metadata": {},
   "outputs": [],
   "source": [
    "import sys\n",
    "!{sys.executable} -m pip install requests"
   ]
  },
  {
   "cell_type": "markdown",
   "metadata": {},
   "source": [
    "If you don't have pip installed, try the following code"
   ]
  },
  {
   "cell_type": "code",
   "execution_count": null,
   "metadata": {},
   "outputs": [],
   "source": [
    "import sys\n",
    "!conda install --yes --prefix {sys.prefix} requests"
   ]
  },
  {
   "cell_type": "markdown",
   "metadata": {},
   "source": [
    "Now let's import this library. "
   ]
  },
  {
   "cell_type": "code",
   "execution_count": null,
   "metadata": {},
   "outputs": [],
   "source": [
    "import requests"
   ]
  },
  {
   "cell_type": "markdown",
   "metadata": {},
   "source": [
    "### Search articles about COVID"
   ]
  },
  {
   "cell_type": "markdown",
   "metadata": {},
   "source": [
    "Remeber parameters in the request? We need to specify the value of NYT Article Search parameters like this:"
   ]
  },
  {
   "cell_type": "code",
   "execution_count": null,
   "metadata": {},
   "outputs": [],
   "source": [
    "# Search articles about COVID\n",
    "r1 = requests.get(\"http://api.nytimes.com/svc/search/v2/articlesearch.json?q=COVID&api-key=gTWqbhG6yHPgNrnDgtlf9lEVwvuqlWv2\")\n",
    "article1 = r1.json()"
   ]
  },
  {
   "cell_type": "code",
   "execution_count": null,
   "metadata": {},
   "outputs": [],
   "source": [
    "article1"
   ]
  },
  {
   "cell_type": "markdown",
   "metadata": {},
   "source": [
    "The q (query) parameter searches the article's body, headline and byline for a particular term. In this case, we are looking for the search term ‘COVID’. \n",
    "\n",
    "The API returns a dictionary of the first 10 results. To get the next 10, we have to use the page parameter. page = 2 returns the second 10 results, page = 3 the third 10 and so on.\n",
    "\n",
    "There’s another way to construct the request. We can use the format() method to handle complex url strings more efficiently. "
   ]
  },
  {
   "cell_type": "code",
   "execution_count": null,
   "metadata": {},
   "outputs": [],
   "source": [
    "# Search articles about COVID using the format method\n",
    "q = \"COVID\"\n",
    "url = \"http://api.nytimes.com/svc/search/v2/articlesearch.json?q={}&api-key={}\".format(q, nyt_api)\n",
    "r1 = requests.get(url)\n",
    "article1 = r1.json()"
   ]
  },
  {
   "cell_type": "code",
   "execution_count": null,
   "metadata": {},
   "outputs": [],
   "source": [
    "article1"
   ]
  },
  {
   "cell_type": "markdown",
   "metadata": {},
   "source": [
    "If you run the code, you'll see that the returned dictionary (JSON) is pretty messy. The code in the cell below could help us understand the structure of the result."
   ]
  },
  {
   "cell_type": "code",
   "execution_count": null,
   "metadata": {},
   "outputs": [],
   "source": [
    "print('\\n--1--\\n')\n",
    "    \n",
    "for element in article1:\n",
    "    print(element)\n",
    "\n",
    "print('\\n--2--\\n')\n",
    "    \n",
    "for element in article1['response']:\n",
    "    print(element)\n",
    "\n",
    "print('\\n--3--\\n')\n",
    "    \n",
    "for element in article1['response']['docs'][0]:\n",
    "    print(element)\n",
    "\n",
    "print('\\n--4--\\n')\n",
    "\n",
    "print(article1['response']['docs'][0]['web_url'])\n",
    "print(article1['response']['docs'][0]['snippet'])\n",
    "\n",
    "print('\\n--5--\\n')\n",
    "\n",
    "for element in article1['response']['docs']:\n",
    "    print(element['web_url'])"
   ]
  },
  {
   "cell_type": "markdown",
   "metadata": {},
   "source": [
    "### Search articles about COVID that were published between January 2020 and March 2020"
   ]
  },
  {
   "cell_type": "code",
   "execution_count": null,
   "metadata": {},
   "outputs": [],
   "source": [
    "# q and nyt_api stay the same\n",
    "# add two more parameters: begin_date and end_date\n",
    "begin_date = 20200101\n",
    "end_date = 20200331\n",
    "url2 = \"http://api.nytimes.com/svc/search/v2/articlesearch.json?q={}&begin_date={}&end_date={}&api-key={}\".format(\n",
    "    q, begin_date, end_date, nyt_api)\n",
    "r2 = requests.get(url2)\n",
    "article2 = r2.json()"
   ]
  },
  {
   "cell_type": "code",
   "execution_count": null,
   "metadata": {
    "scrolled": true
   },
   "outputs": [],
   "source": [
    "for element in article2['response']['docs']:\n",
    "    print(element['pub_date'])"
   ]
  },
  {
   "cell_type": "markdown",
   "metadata": {},
   "source": [
    "The begin_date and end_date parameters (in YYYYMMDD format) limit the date range of the search.\n",
    "\n",
    "There are many other parameters and filters we can use to specify our serach. See the API document: https://developer.nytimes.com/docs/articlesearch-product/1/overview"
   ]
  },
  {
   "cell_type": "markdown",
   "metadata": {},
   "source": [
    "### Search articles about COVID that were published between January 2020 and March 2020 on the New York Times and Associated Press only"
   ]
  },
  {
   "cell_type": "markdown",
   "metadata": {},
   "source": [
    "The fq (filter query) parameter has a sub-filed source, which could restrict our search\n",
    "\n",
    "The API document has an exmaple about source:\n",
    "- fq=source:(\"The New York Times\")\n",
    "\n",
    "But what we want is slightly different from it, we want articles from The New York Times or Associated Press. How to do that? The API document also explains the filter query field. We find that\n",
    "- 'source' allows single token\n",
    "- 'source.contains' allows multiple tokens\n",
    "\n",
    "So source.contains meets the requirement. We could change the example above a little bit like this bellow:"
   ]
  },
  {
   "cell_type": "code",
   "execution_count": null,
   "metadata": {},
   "outputs": [],
   "source": [
    "fq = 'source.contains:(\"The New York Times\", \"AP\")'"
   ]
  },
  {
   "cell_type": "code",
   "execution_count": null,
   "metadata": {},
   "outputs": [],
   "source": [
    "url3 = \"http://api.nytimes.com/svc/search/v2/articlesearch.json?q={}&begin_date={}&end_date={}&fq={}&api-key={}\".format(\n",
    "    q, begin_date, end_date, fq, nyt_api)\n",
    "r3 = requests.get(url3)\n",
    "article3 = r3.json()"
   ]
  },
  {
   "cell_type": "code",
   "execution_count": null,
   "metadata": {},
   "outputs": [],
   "source": [
    "for element in article3['response']['docs']:\n",
    "    print(element['source'])"
   ]
  },
  {
   "cell_type": "markdown",
   "metadata": {},
   "source": [
    "### Exercise 1: expand url3 and find articles on page 90, print out the headline of articles on that page"
   ]
  },
  {
   "cell_type": "code",
   "execution_count": null,
   "metadata": {},
   "outputs": [],
   "source": [
    "page = 90\n",
    "url4 = \"http://api.nytimes.com/svc/search/v2/articlesearch.json?q={}&begin_date={}&end_date={}&fq={}&page={}&api-key={}\".format(\n",
    "    q, begin_date, end_date, fq, page, nyt_api)\n",
    "r4 = requests.get(url4)\n",
    "article4 = r4.json()"
   ]
  },
  {
   "cell_type": "code",
   "execution_count": null,
   "metadata": {},
   "outputs": [],
   "source": [
    "for element in article3['response']['docs']:\n",
    "    print(element['headline'])"
   ]
  },
  {
   "cell_type": "markdown",
   "metadata": {},
   "source": [
    "### Exercise 2: search articles about COVID that were published between Januray 2020 and March 2020 from the U.S. news desk, print out the news desk of articles on the first page"
   ]
  },
  {
   "cell_type": "code",
   "execution_count": null,
   "metadata": {},
   "outputs": [],
   "source": [
    "# Example from the API document: \n",
    "# fq=news_desk:(\"Sports\" \"Foreign\")\n",
    "fq2 = 'news_desk:(\"U.S.\")'\n",
    "url5 = \"http://api.nytimes.com/svc/search/v2/articlesearch.json?q={}&begin_date={}&end_date={}&fq={}&&api-key={}\".format(\n",
    "    q, begin_date, end_date, fq2, nyt_api)\n",
    "r5 = requests.get(url5)\n",
    "article5 = r5.json()"
   ]
  },
  {
   "cell_type": "code",
   "execution_count": null,
   "metadata": {},
   "outputs": [],
   "source": [
    "for element in article5['response']['docs']:\n",
    "    print(element['news_desk'])"
   ]
  },
  {
   "cell_type": "markdown",
   "metadata": {},
   "source": [
    "### Exercise 3: make a request to get articles about COVID and China (hint: use glocations filter query field), print out the word_count of articles on the first page"
   ]
  },
  {
   "cell_type": "code",
   "execution_count": null,
   "metadata": {},
   "outputs": [],
   "source": [
    "# Write your code here\n",
    "fq3 = 'glocations:(\"China\")'\n",
    "url6 = \"http://api.nytimes.com/svc/search/v2/articlesearch.json?q={}&fq={}&api-key={}\".format(q, fq3, nyt_api)\n",
    "r6 = requests.get(url6)\n",
    "article6 = r6.json()\n",
    "for element in article6['response']['docs']:\n",
    "    print(element['word_count'])"
   ]
  },
  {
   "cell_type": "markdown",
   "metadata": {},
   "source": [
    "### Save the web urls of articles about COVID on the first page to a .txt file"
   ]
  },
  {
   "cell_type": "code",
   "execution_count": null,
   "metadata": {},
   "outputs": [],
   "source": [
    "# Search articles about COVID \n",
    "url = \"http://api.nytimes.com/svc/search/v2/articlesearch.json?q={}&api-key={}\".format(q, nyt_api)\n",
    "r1 = requests.get(url)\n",
    "article1 = r1.json()"
   ]
  },
  {
   "cell_type": "code",
   "execution_count": null,
   "metadata": {},
   "outputs": [],
   "source": [
    "# save URLs to a list\n",
    "article_link1 = []\n",
    "for element in article1['response']['docs']:\n",
    "    article_link1.append(element['web_url'])"
   ]
  },
  {
   "cell_type": "code",
   "execution_count": null,
   "metadata": {},
   "outputs": [],
   "source": [
    "# export the list to a .txt file\n",
    "with open('web_urls_1_page.txt', 'w') as f:\n",
    "    for item in article_link1:\n",
    "        f.write(\"%s\\n\" % item)"
   ]
  },
  {
   "cell_type": "markdown",
   "metadata": {},
   "source": [
    "### Save the web urls of articles about COVID  from page 1 to page 5 to a .txt file"
   ]
  },
  {
   "cell_type": "code",
   "execution_count": null,
   "metadata": {},
   "outputs": [],
   "source": [
    "# save urls for articles from page 1 to page 5\n",
    "article_link2 = []\n",
    "for page_n in range(1, 6):\n",
    "    url7 = \"http://api.nytimes.com/svc/search/v2/articlesearch.json?q={}&page={}&api-key={}\".format(q, page_n, nyt_api)\n",
    "    r7 = requests.get(url7)\n",
    "    article7 = r7.json()\n",
    "    if article7['response']:\n",
    "        for element in article7['response']['docs']:\n",
    "            article_link2.append(element['web_url'])"
   ]
  },
  {
   "cell_type": "code",
   "execution_count": null,
   "metadata": {},
   "outputs": [],
   "source": [
    "# we should have 50 urls in the list\n",
    "len(article_link2)"
   ]
  },
  {
   "cell_type": "code",
   "execution_count": null,
   "metadata": {},
   "outputs": [],
   "source": [
    "# export the list to a .txt file\n",
    "with open('web_urls_2_page.txt', 'w') as f:\n",
    "    for item in article_link2:\n",
    "        f.write(\"%s\\n\" % item)"
   ]
  },
  {
   "cell_type": "code",
   "execution_count": null,
   "metadata": {},
   "outputs": [],
   "source": []
  },
  {
   "cell_type": "markdown",
   "metadata": {},
   "source": [
    "### Answer: Exercise 1"
   ]
  },
  {
   "cell_type": "code",
   "execution_count": null,
   "metadata": {},
   "outputs": [],
   "source": [
    "page = 90\n",
    "url4 = \"http://api.nytimes.com/svc/search/v2/articlesearch.json?q={}&begin_date={}&end_date={}&fq={}&page={}&api-key={}\".format(\n",
    "    q, begin_date, end_date, fq, page, nyt_api)\n",
    "r4 = requests.get(url4)\n",
    "article4 = r4.json()"
   ]
  },
  {
   "cell_type": "code",
   "execution_count": null,
   "metadata": {},
   "outputs": [],
   "source": [
    "for element in article4['response']['docs']:\n",
    "    print(element['headline'])"
   ]
  },
  {
   "cell_type": "markdown",
   "metadata": {},
   "source": [
    "### Answer: Exercise 2"
   ]
  },
  {
   "cell_type": "code",
   "execution_count": null,
   "metadata": {},
   "outputs": [],
   "source": [
    "# Example from the API document: \n",
    "# fq=news_desk:(\"Sports\" \"Foreign\")\n",
    "fq2 = 'news_desk:(\"U.S.\")'\n",
    "url5 = \"http://api.nytimes.com/svc/search/v2/articlesearch.json?q={}&begin_date={}&end_date={}&fq={}&&api-key={}\".format(\n",
    "    q, begin_date, end_date, fq2, nyt_api)\n",
    "r5 = requests.get(url5)\n",
    "article5 = r5.json()"
   ]
  },
  {
   "cell_type": "code",
   "execution_count": null,
   "metadata": {},
   "outputs": [],
   "source": [
    "for element in article5['response']['docs']:\n",
    "    print(element['news_desk'])"
   ]
  },
  {
   "cell_type": "markdown",
   "metadata": {},
   "source": [
    "### Answer: Exercise 3"
   ]
  },
  {
   "cell_type": "code",
   "execution_count": null,
   "metadata": {},
   "outputs": [],
   "source": [
    "fq3 = 'glocations:(\"China\")'\n",
    "url6 = \"http://api.nytimes.com/svc/search/v2/articlesearch.json?q={}&fq={}&api-key={}\".format(q, fq3, nyt_api)\n",
    "r6 = requests.get(url6)\n",
    "article6 = r6.json()"
   ]
  },
  {
   "cell_type": "code",
   "execution_count": null,
   "metadata": {},
   "outputs": [],
   "source": [
    "for element in article6['response']['docs']:\n",
    "    print(element['word_count'])"
   ]
  },
  {
   "cell_type": "code",
   "execution_count": null,
   "metadata": {},
   "outputs": [],
   "source": []
  }
 ],
 "metadata": {
  "kernelspec": {
   "display_name": "Python 3",
   "language": "python",
   "name": "python3"
  },
  "language_info": {
   "codemirror_mode": {
    "name": "ipython",
    "version": 3
   },
   "file_extension": ".py",
   "mimetype": "text/x-python",
   "name": "python",
   "nbconvert_exporter": "python",
   "pygments_lexer": "ipython3",
   "version": "3.8.5"
  }
 },
 "nbformat": 4,
 "nbformat_minor": 4
}
